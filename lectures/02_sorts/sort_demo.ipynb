{
 "cells": [
  {
   "cell_type": "code",
   "execution_count": 1,
   "id": "8e4c97d1-db20-4dce-9841-f36bb2d6cc41",
   "metadata": {},
   "outputs": [],
   "source": [
    "from macsort.factory import SortingFactory\n",
    "from macsort.interface import SortAlgorithm, SortResult"
   ]
  },
  {
   "cell_type": "markdown",
   "id": "a43c4818-7036-40fb-9ad0-b7ccf44bf667",
   "metadata": {
    "tags": []
   },
   "source": [
    "# Demonstrating different sort algorithms"
   ]
  },
  {
   "cell_type": "code",
   "execution_count": 2,
   "id": "29e996b7-2a02-4dd9-91f5-342303e27b14",
   "metadata": {},
   "outputs": [],
   "source": [
    "factory = SortingFactory()"
   ]
  },
  {
   "cell_type": "markdown",
   "id": "346b00ef-a4fe-4264-86c5-2eb8461d5012",
   "metadata": {
    "tags": []
   },
   "source": [
    "## Generating random arrays"
   ]
  },
  {
   "cell_type": "code",
   "execution_count": 3,
   "id": "4a4131a5-012e-4673-b98c-ef3aedf993db",
   "metadata": {},
   "outputs": [],
   "source": [
    "import random\n",
    "random.seed(1659644754) # For reproducibility purposes"
   ]
  },
  {
   "cell_type": "code",
   "execution_count": 4,
   "id": "5a05ca3e-dae6-423c-b071-dafec7e3360a",
   "metadata": {},
   "outputs": [],
   "source": [
    "dataset = {\n",
    "    \"10\":    random.sample(range(10), 10),\n",
    "    \"50\":    random.sample(range(50), 50),\n",
    "    \"100\":   random.sample(range(100), 100),\n",
    "    \"250\":   random.sample(range(250), 250),\n",
    "    \"500\":   random.sample(range(500), 500),\n",
    "    \"750\":   random.sample(range(750), 750),\n",
    "    \"1000\":  random.sample(range(1000), 1000),\n",
    "    \"2500\":  random.sample(range(2500), 2500),\n",
    "    \"5000\":  random.sample(range(5000), 5000),\n",
    "}"
   ]
  },
  {
   "cell_type": "markdown",
   "id": "197c3440-9d2d-469c-82c0-6689494b5365",
   "metadata": {},
   "source": [
    "We define a `multi_sort` function to execute the algorithm on each and every array, and collect the number of comparison operations done during the sorting process (as a comparison benchmark)"
   ]
  },
  {
   "cell_type": "code",
   "execution_count": 5,
   "id": "aa1140f8-35d3-4f71-ba69-cd81c095d012",
   "metadata": {},
   "outputs": [],
   "source": [
    "def multi_sort(algo: SortAlgorithm, dataset: dict) -> dict:\n",
    "    result = {}\n",
    "    for k in dataset.keys():\n",
    "        result[k] = algo(dataset[k])['ops']\n",
    "    return result"
   ]
  },
  {
   "cell_type": "markdown",
   "id": "024b8590-bfad-4e11-8324-1f1f4d0e9955",
   "metadata": {
    "tags": []
   },
   "source": [
    "## Bubble Sort algorithm - $\\mathcal{O}(n^2)$"
   ]
  },
  {
   "cell_type": "code",
   "execution_count": 6,
   "id": "72ea36e5-7e99-4fa9-b831-d028b7aaaaee",
   "metadata": {},
   "outputs": [],
   "source": [
    "bubble = factory.build(\"bubble\")"
   ]
  },
  {
   "cell_type": "code",
   "execution_count": 7,
   "id": "e0a45b87-a630-4f79-8011-3e8109ccea6e",
   "metadata": {},
   "outputs": [
    {
     "data": {
      "text/plain": [
       "{'sorted': [0, 1, 2, 3, 4, 5, 6, 7, 8, 9], 'ops': 42}"
      ]
     },
     "execution_count": 7,
     "metadata": {},
     "output_type": "execute_result"
    }
   ],
   "source": [
    "bubble(dataset['10'])"
   ]
  },
  {
   "cell_type": "code",
   "execution_count": 8,
   "id": "f15785bf-4659-4343-89ae-5d3f8ae0df73",
   "metadata": {},
   "outputs": [
    {
     "data": {
      "text/plain": [
       "{'10': 42,\n",
       " '50': 1224,\n",
       " '100': 4814,\n",
       " '250': 31047,\n",
       " '500': 124120,\n",
       " '750': 280497,\n",
       " '1000': 497289,\n",
       " '2500': 3119564,\n",
       " '5000': 12496639}"
      ]
     },
     "execution_count": 8,
     "metadata": {},
     "output_type": "execute_result"
    }
   ],
   "source": [
    "bubble_results = multi_sort(bubble, dataset)\n",
    "bubble_results"
   ]
  },
  {
   "cell_type": "markdown",
   "id": "2da377c6-22c8-43d1-9c5c-311469ec9cc1",
   "metadata": {
    "tags": []
   },
   "source": [
    "## Insertion Sort algorithm - $\\mathcal{O}(n^2)$"
   ]
  },
  {
   "cell_type": "code",
   "execution_count": 9,
   "id": "c4b96566-e7ed-45dc-a423-fc621d47c43d",
   "metadata": {},
   "outputs": [],
   "source": [
    "insert = factory.build('insertion')"
   ]
  },
  {
   "cell_type": "code",
   "execution_count": 10,
   "id": "fc06f07c-4659-4bda-9131-9849189bb6e2",
   "metadata": {},
   "outputs": [
    {
     "data": {
      "text/plain": [
       "{'sorted': [0, 1, 2, 3, 4, 5, 6, 7, 8, 9], 'ops': 21}"
      ]
     },
     "execution_count": 10,
     "metadata": {},
     "output_type": "execute_result"
    }
   ],
   "source": [
    "insert(dataset['10'])"
   ]
  },
  {
   "cell_type": "code",
   "execution_count": 11,
   "id": "0480fb90-9688-45f3-bf0f-de73ce4d8af9",
   "metadata": {},
   "outputs": [
    {
     "data": {
      "text/plain": [
       "{'10': 21,\n",
       " '50': 602,\n",
       " '100': 2490,\n",
       " '250': 15715,\n",
       " '500': 61792,\n",
       " '750': 140549,\n",
       " '1000': 236420,\n",
       " '2500': 1550471,\n",
       " '5000': 6276581}"
      ]
     },
     "execution_count": 11,
     "metadata": {},
     "output_type": "execute_result"
    }
   ],
   "source": [
    "insert_results = multi_sort(insert, dataset)\n",
    "insert_results"
   ]
  },
  {
   "cell_type": "markdown",
   "id": "ed0806de-e258-4fed-9493-1ace0a26fb89",
   "metadata": {
    "tags": []
   },
   "source": [
    "## Merge Sort algorithm - $\\mathcal{O}(n.\\log(n))$"
   ]
  },
  {
   "cell_type": "code",
   "execution_count": 12,
   "id": "9f792b37-d803-4dde-a141-b26ab5f18874",
   "metadata": {},
   "outputs": [],
   "source": [
    "merge = factory.build('merge')"
   ]
  },
  {
   "cell_type": "code",
   "execution_count": 13,
   "id": "0391ad03-47c1-4b2e-8cf9-54becb25801e",
   "metadata": {},
   "outputs": [
    {
     "data": {
      "text/plain": [
       "{'sorted': [0, 1, 2, 3, 4, 5, 6, 7, 8, 9], 'ops': 82}"
      ]
     },
     "execution_count": 13,
     "metadata": {},
     "output_type": "execute_result"
    }
   ],
   "source": [
    "merge(dataset['10'])"
   ]
  },
  {
   "cell_type": "code",
   "execution_count": 14,
   "id": "ad601df2-7cef-4e72-96ac-a38272cb47b1",
   "metadata": {},
   "outputs": [
    {
     "data": {
      "text/plain": [
       "{'10': 82,\n",
       " '50': 861,\n",
       " '100': 2130,\n",
       " '250': 6547,\n",
       " '500': 15134,\n",
       " '750': 24608,\n",
       " '1000': 34424,\n",
       " '2500': 99429,\n",
       " '5000': 218566}"
      ]
     },
     "execution_count": 14,
     "metadata": {},
     "output_type": "execute_result"
    }
   ],
   "source": [
    "merge_results = multi_sort(merge, dataset)\n",
    "merge_results"
   ]
  },
  {
   "cell_type": "markdown",
   "id": "770d0b6a-dc0d-4cb4-be2d-7cbf9b805927",
   "metadata": {
    "tags": []
   },
   "source": [
    "## Quick Sort algorithm - $\\mathcal{O}(n.\\log(n))$"
   ]
  },
  {
   "cell_type": "code",
   "execution_count": 15,
   "id": "32ff6b52-7a26-4656-bf02-da3c481fabed",
   "metadata": {},
   "outputs": [],
   "source": [
    "quick = factory.build('quick')"
   ]
  },
  {
   "cell_type": "code",
   "execution_count": 16,
   "id": "cec33ec3-442b-4fd9-b018-7834d29494b9",
   "metadata": {},
   "outputs": [
    {
     "data": {
      "text/plain": [
       "{'sorted': [0, 1, 2, 3, 4, 5, 6, 7, 8, 9], 'ops': 38}"
      ]
     },
     "execution_count": 16,
     "metadata": {},
     "output_type": "execute_result"
    }
   ],
   "source": [
    "quick(dataset['10'])"
   ]
  },
  {
   "cell_type": "code",
   "execution_count": 17,
   "id": "278aaed5-12f0-4550-829d-d53dd657001f",
   "metadata": {
    "tags": []
   },
   "outputs": [
    {
     "data": {
      "text/plain": [
       "{'10': 38,\n",
       " '50': 319,\n",
       " '100': 854,\n",
       " '250': 2207,\n",
       " '500': 5386,\n",
       " '750': 8762,\n",
       " '1000': 11883,\n",
       " '2500': 36428,\n",
       " '5000': 76120}"
      ]
     },
     "execution_count": 17,
     "metadata": {},
     "output_type": "execute_result"
    }
   ],
   "source": [
    "quick_results = multi_sort(quick, dataset)\n",
    "quick_results"
   ]
  },
  {
   "cell_type": "markdown",
   "id": "a937d056-7b9d-4eb1-911d-903b1778b12e",
   "metadata": {
    "tags": []
   },
   "source": [
    "## Radix Sort algorithm - $\\mathcal{O}(n)$"
   ]
  },
  {
   "cell_type": "code",
   "execution_count": 18,
   "id": "537fd2c4-d0b2-461a-889d-59667c11b553",
   "metadata": {},
   "outputs": [],
   "source": [
    "radix = factory.build('radix')"
   ]
  },
  {
   "cell_type": "code",
   "execution_count": 19,
   "id": "06108d91-9e28-46bb-bff4-8532b4b50658",
   "metadata": {},
   "outputs": [
    {
     "data": {
      "text/plain": [
       "{'sorted': [0, 1, 2, 3, 4, 5, 6, 7, 8, 9], 'ops': 11}"
      ]
     },
     "execution_count": 19,
     "metadata": {},
     "output_type": "execute_result"
    }
   ],
   "source": [
    "radix(dataset['10'])"
   ]
  },
  {
   "cell_type": "code",
   "execution_count": 20,
   "id": "280d98ac-46fb-434b-84e3-b381a8bcfa63",
   "metadata": {},
   "outputs": [
    {
     "data": {
      "text/plain": [
       "{'10': 11,\n",
       " '50': 102,\n",
       " '100': 202,\n",
       " '250': 753,\n",
       " '500': 1503,\n",
       " '750': 2253,\n",
       " '1000': 3003,\n",
       " '2500': 10004,\n",
       " '5000': 20004}"
      ]
     },
     "execution_count": 20,
     "metadata": {},
     "output_type": "execute_result"
    }
   ],
   "source": [
    "radix_results = multi_sort(radix, dataset)\n",
    "radix_results"
   ]
  },
  {
   "cell_type": "markdown",
   "id": "3614dc8c-a42e-490f-8066-78a724af2391",
   "metadata": {
    "tags": []
   },
   "source": [
    "# Comparing sort algorithms"
   ]
  },
  {
   "cell_type": "markdown",
   "id": "8cddd826-ab63-4f6a-b0dd-037a8142a664",
   "metadata": {},
   "source": [
    "## Drawing results, and extrapolating \n",
    "We will use a 1-dimension interpolation algorithm to fill the gap between the measurements, and extrapolate the evolution."
   ]
  },
  {
   "cell_type": "code",
   "execution_count": 21,
   "id": "c3caddc7-6cfa-4b4e-b17c-08492d0fc7f9",
   "metadata": {},
   "outputs": [],
   "source": [
    "from scipy.interpolate import interp1d\n",
    "from matplotlib import pyplot as plt"
   ]
  },
  {
   "cell_type": "code",
   "execution_count": 22,
   "id": "6eee2bad-4c45-49e0-b75f-3518d1fb3f22",
   "metadata": {},
   "outputs": [],
   "source": [
    "def interpolate(result: SortResult):\n",
    "    \"\"\"Return a function f such as f(x) = y for known xs and ys, plus (inter|extra)polation\"\"\"\n",
    "    xs = [int(x) for x in result.keys()]\n",
    "    ys = [y for y in result.values()]\n",
    "    f = interp1d(xs, ys, kind='linear', fill_value='extrapolate')\n",
    "    return f"
   ]
  },
  {
   "cell_type": "code",
   "execution_count": 23,
   "id": "2f791816-a137-46e2-a393-67103c304df9",
   "metadata": {},
   "outputs": [],
   "source": [
    "def draw(results: SortResult, title: str, max_range: int, canvas):\n",
    "    canvas.set_title(title)\n",
    "    canvas.set(xlabel='array size', ylabel='|operations|')\n",
    "    # Extracting real measurements\n",
    "    measured_x = [int(x) for x in results.keys()]\n",
    "    measured_y = [y for y in results.values()]\n",
    "    # building interpolation range\n",
    "    interpol_f = interpolate(results)\n",
    "    interpol_x = list(range(0, max_range, 10))\n",
    "    interpol_y = interpol_f(interpol_x)\n",
    "    # Plotting the measurements as dots (o), and the function as a line (-)\n",
    "    canvas.plot(measured_x, measured_y, 'o', label=\"measured\")\n",
    "    canvas.plot(interpol_x, interpol_y, '-', label=\"interpolation\")\n",
    "    canvas.legend()\n",
    "    "
   ]
  },
  {
   "cell_type": "markdown",
   "id": "6dfdf285-518b-44ad-8797-50c106f1965f",
   "metadata": {
    "tags": []
   },
   "source": [
    "## Graphing the results"
   ]
  },
  {
   "cell_type": "markdown",
   "id": "1ef699dc-30fd-405b-a505-eb03a977da1c",
   "metadata": {},
   "source": [
    "### Comparing $\\mathcal{O}(n^2)$ sorts"
   ]
  },
  {
   "cell_type": "code",
   "execution_count": 24,
   "id": "9495c4a6-a56b-4e4f-ac8e-79c63870526c",
   "metadata": {},
   "outputs": [
    {
     "data": {
      "image/png": "[encoded data removed]",
      "text/plain": [
       "<Figure size 432x288 with 2 Axes>"
      ]
     },
     "metadata": {
      "needs_background": "light"
     },
     "output_type": "display_data"
    }
   ],
   "source": [
    "fig, axes = plt.subplots(1,2, sharex = True, sharey = True)\n",
    "draw(bubble_results, \"bubble sort\", 10000, axes[0])\n",
    "draw(insert_results, \"insertion sort\", 10000, axes[1])\n",
    "fig.savefig('outputs/sort_comparisons_On2.pdf')"
   ]
  },
  {
   "cell_type": "markdown",
   "id": "d4f1f48c-90dc-4f1b-be35-5ae9417aa69a",
   "metadata": {},
   "source": [
    "### Comparing $\\mathcal{O}(n.\\log(n))$ sorts"
   ]
  },
  {
   "cell_type": "code",
   "execution_count": 25,
   "id": "a8e1e2cf-8302-4eab-a606-e37dc2054874",
   "metadata": {},
   "outputs": [
    {
     "data": {
      "image/png": "[encoded data removed]",
      "text/plain": [
       "<Figure size 432x288 with 2 Axes>"
      ]
     },
     "metadata": {
      "needs_background": "light"
     },
     "output_type": "display_data"
    }
   ],
   "source": [
    "fig, axes = plt.subplots(1,2, sharex = True, sharey = True)\n",
    "draw(merge_results, \"merge sort\", 10000, axes[0])\n",
    "draw(quick_results, \"quick sort\", 10000, axes[1])\n",
    "fig.savefig('outputs/sort_comparisons_Onlogn.pdf')"
   ]
  },
  {
   "cell_type": "markdown",
   "id": "2c438afa-1f4b-4b06-988a-a4493d21ff28",
   "metadata": {},
   "source": [
    "### Comparing all results - Large scale"
   ]
  },
  {
   "cell_type": "code",
   "execution_count": 26,
   "id": "140c14f3-b522-456d-b41a-1da3d19e3973",
   "metadata": {},
   "outputs": [
    {
     "data": {
      "image/png": "[encoded data removed]",
      "text/plain": [
       "<Figure size 432x288 with 1 Axes>"
      ]
     },
     "metadata": {
      "needs_background": "light"
     },
     "output_type": "display_data"
    }
   ],
   "source": [
    "fig, axes = plt.subplots()\n",
    "axes.set(xlabel='array size', ylabel='|operations| (log scale)')\n",
    "axes.set_yscale('log')\n",
    "xs = [int(x) for x in dataset.keys()]\n",
    "axes.plot(xs, [y for y in bubble_results.values()], '-', label=\"bubble\")\n",
    "axes.plot(xs, [y for y in insert_results.values()], '-', label=\"insertion\")\n",
    "axes.plot(xs, [y for y in merge_results.values()],  '-', label=\"merge\")\n",
    "axes.plot(xs, [y for y in quick_results.values()],  '-', label=\"quick\")\n",
    "axes.plot(xs, [y for y in radix_results.values()],  '-', label=\"radix\")\n",
    "axes.legend()\n",
    "fig.savefig('outputs/sort_comparisons_large.pdf')"
   ]
  },
  {
   "cell_type": "markdown",
   "id": "29ccdc33-9f70-4207-8e3d-a24a570cb7a9",
   "metadata": {},
   "source": [
    "### Comparing all results - Small scale"
   ]
  },
  {
   "cell_type": "code",
   "execution_count": 27,
   "id": "027c234c-6254-4087-8852-e805957714a6",
   "metadata": {},
   "outputs": [
    {
     "data": {
      "image/png": "[encoded data removed]",
      "text/plain": [
       "<Figure size 432x288 with 1 Axes>"
      ]
     },
     "metadata": {
      "needs_background": "light"
     },
     "output_type": "display_data"
    }
   ],
   "source": [
    "fig, axes = plt.subplots()\n",
    "scope = [10,20, 50, 100, 250]\n",
    "axes.set(xlabel='array size', ylabel='|operations|')\n",
    "axes.plot(scope, [y for y in bubble_results.values()][:len(scope)], '-', label=\"bubble\")\n",
    "axes.plot(scope, [y for y in insert_results.values()][:len(scope)], '-', label=\"insertion\")\n",
    "axes.plot(scope, [y for y in merge_results.values()][:len(scope)], '-',  label=\"merge\")\n",
    "axes.plot(scope, [y for y in quick_results.values()][:len(scope)], '-',  label=\"quick\")\n",
    "axes.plot(scope, [y for y in radix_results.values()][:len(scope)], '-',  label=\"radix\")\n",
    "axes.legend()\n",
    "fig.savefig('outputs/sort_comparisons_small.pdf')"
   ]
  },
  {
   "cell_type": "markdown",
   "id": "80734156-1344-4509-a760-ed087a6304a3",
   "metadata": {
    "tags": []
   },
   "source": [
    "# Benchmarking execution time"
   ]
  },
  {
   "cell_type": "markdown",
   "id": "f8ce11a4-abb8-4d9d-8831-35a1e57eca38",
   "metadata": {
    "tags": []
   },
   "source": [
    "## Executing the performance benchmark"
   ]
  },
  {
   "cell_type": "markdown",
   "id": "5d711b03-acd4-43ba-955b-29ad37681a08",
   "metadata": {},
   "source": [
    "We run the benchmark defined in `benchmark.py` with PyPerf. If the result file is already available, we reuse this file instead of recomputing, to save precious time. PyPerf works as an external command, so we use the `!{}` syntax from Jupyter to directly execute shell command. "
   ]
  },
  {
   "cell_type": "code",
   "execution_count": 28,
   "id": "c29c42f2-8659-4566-8492-e393940c5b45",
   "metadata": {},
   "outputs": [
    {
     "name": "stdout",
     "output_type": "stream",
     "text": [
      ".....................\n",
      "python-sort: Mean +- std dev: 36.7 us +- 2.8 us\n",
      ".....................\n",
      "radix: Mean +- std dev: 27.9 ms +- 0.4 ms\n",
      ".....................\n",
      "quick: Mean +- std dev: 61.0 ms +- 2.9 ms\n",
      ".....................\n",
      "merge: Mean +- std dev: 135 ms +- 2 ms\n",
      ".....................\n",
      "insertion: Mean +- std dev: 8.92 sec +- 0.33 sec\n",
      ".....................\n",
      "bubble: Mean +- std dev: 19.3 sec +- 0.6 sec\n"
     ]
    }
   ],
   "source": [
    "from os.path import exists\n",
    "if not exists('outputs/pyperf_measurements.json'):\n",
    "    !{'python benchmark.py -o outputs/pyperf_measurements.json'}"
   ]
  },
  {
   "cell_type": "markdown",
   "id": "db556f26-bc67-4d81-a8dd-e575722007f6",
   "metadata": {
    "jp-MarkdownHeadingCollapsed": true,
    "tags": []
   },
   "source": [
    "## Plotting the results in text mode"
   ]
  },
  {
   "cell_type": "code",
   "execution_count": 29,
   "id": "dca89c73-ad7a-42f5-9c05-5681aa6b9ff8",
   "metadata": {},
   "outputs": [
    {
     "name": "stdout",
     "output_type": "stream",
     "text": [
      "python-sort\n",
      "===========\n",
      "\n",
      "34.5 us:  3 #####\n",
      "35.5 us: 37 ###################################################################\n",
      "36.4 us: 12 ######################\n",
      "37.3 us:  4 #######\n",
      "38.2 us:  1 ##\n",
      "39.1 us:  0 |\n",
      "40.0 us:  1 ##\n",
      "40.9 us:  0 |\n",
      "41.8 us:  0 |\n",
      "42.7 us:  0 |\n",
      "43.6 us:  0 |\n",
      "44.5 us:  0 |\n",
      "45.5 us:  0 |\n",
      "46.4 us:  1 ##\n",
      "47.3 us:  0 |\n",
      "48.2 us:  0 |\n",
      "49.1 us:  0 |\n",
      "50.0 us:  0 |\n",
      "50.9 us:  0 |\n",
      "51.8 us:  0 |\n",
      "52.7 us:  0 |\n",
      "53.6 us:  1 ##\n",
      "\n",
      "radix\n",
      "=====\n",
      "\n",
      "27.1 ms: 1 ########\n",
      "27.2 ms: 1 ########\n",
      "27.3 ms: 2 ###############\n",
      "27.4 ms: 3 #######################\n",
      "27.5 ms: 7 #####################################################\n",
      "27.6 ms: 3 #######################\n",
      "27.7 ms: 7 #####################################################\n",
      "27.8 ms: 9 ####################################################################\n",
      "27.9 ms: 6 #############################################\n",
      "28.0 ms: 5 ######################################\n",
      "28.1 ms: 4 ##############################\n",
      "28.2 ms: 2 ###############\n",
      "28.3 ms: 1 ########\n",
      "28.4 ms: 3 #######################\n",
      "28.4 ms: 1 ########\n",
      "28.5 ms: 0 |\n",
      "28.6 ms: 1 ########\n",
      "28.7 ms: 0 |\n",
      "28.8 ms: 1 ########\n",
      "28.9 ms: 0 |\n",
      "29.0 ms: 0 |\n",
      "29.1 ms: 3 #######################\n",
      "\n",
      "quick\n",
      "=====\n",
      "\n",
      "58.2 ms:  6 ##################\n",
      "59.1 ms: 22 ###################################################################\n",
      "60.0 ms: 10 ##############################\n",
      "61.0 ms:  7 #####################\n",
      "61.9 ms:  3 #########\n",
      "62.8 ms:  8 ########################\n",
      "63.8 ms:  2 ######\n",
      "64.7 ms:  0 |\n",
      "65.7 ms:  0 |\n",
      "66.6 ms:  0 |\n",
      "67.5 ms:  1 ###\n",
      "68.5 ms:  0 |\n",
      "69.4 ms:  0 |\n",
      "70.3 ms:  0 |\n",
      "71.3 ms:  0 |\n",
      "72.2 ms:  0 |\n",
      "73.2 ms:  0 |\n",
      "74.1 ms:  0 |\n",
      "75.0 ms:  0 |\n",
      "76.0 ms:  0 |\n",
      "76.9 ms:  0 |\n",
      "77.9 ms:  1 ###\n",
      "\n",
      "merge\n",
      "=====\n",
      "\n",
      "132 ms: 1 ########\n",
      "132 ms: 4 ###############################\n",
      "133 ms: 6 ##############################################\n",
      "133 ms: 2 ###############\n",
      "134 ms: 6 ##############################################\n",
      "134 ms: 8 #############################################################\n",
      "134 ms: 3 #######################\n",
      "135 ms: 7 ######################################################\n",
      "135 ms: 9 #####################################################################\n",
      "136 ms: 4 ###############################\n",
      "136 ms: 1 ########\n",
      "137 ms: 2 ###############\n",
      "137 ms: 2 ###############\n",
      "138 ms: 0 |\n",
      "138 ms: 1 ########\n",
      "139 ms: 1 ########\n",
      "139 ms: 0 |\n",
      "139 ms: 0 |\n",
      "140 ms: 1 ########\n",
      "140 ms: 0 |\n",
      "141 ms: 1 ########\n",
      "141 ms: 1 ########\n",
      "\n",
      "insertion\n",
      "=========\n",
      "\n",
      "8.39 sec: 3 ######################\n",
      "8.47 sec: 3 ######################\n",
      "8.54 sec: 4 ##############################\n",
      "8.62 sec: 6 #############################################\n",
      "8.69 sec: 4 ##############################\n",
      "8.77 sec: 6 #############################################\n",
      "8.85 sec: 7 ####################################################\n",
      "8.92 sec: 9 ###################################################################\n",
      "9.00 sec: 2 ###############\n",
      "9.08 sec: 6 #############################################\n",
      "9.15 sec: 1 #######\n",
      "9.23 sec: 2 ###############\n",
      "9.31 sec: 1 #######\n",
      "9.38 sec: 1 #######\n",
      "9.46 sec: 0 |\n",
      "9.53 sec: 3 ######################\n",
      "9.61 sec: 0 |\n",
      "9.69 sec: 0 |\n",
      "9.76 sec: 1 #######\n",
      "9.84 sec: 0 |\n",
      "9.92 sec: 0 |\n",
      "9.99 sec: 1 #######\n",
      "\n",
      "bubble\n",
      "======\n",
      "\n",
      "17.9 sec:  1 #######\n",
      "18.1 sec:  0 |\n",
      "18.2 sec:  2 #############\n",
      "18.4 sec:  3 ####################\n",
      "18.5 sec:  4 ##########################\n",
      "18.7 sec:  1 #######\n",
      "18.9 sec:  7 ##############################################\n",
      "19.0 sec:  6 ########################################\n",
      "19.2 sec: 10 ##################################################################\n",
      "19.3 sec:  9 ###########################################################\n",
      "19.5 sec:  5 #################################\n",
      "19.6 sec:  4 ##########################\n",
      "19.8 sec:  1 #######\n",
      "19.9 sec:  2 #############\n",
      "20.1 sec:  1 #######\n",
      "20.3 sec:  1 #######\n",
      "20.4 sec:  0 |\n",
      "20.6 sec:  2 #############\n",
      "20.7 sec:  0 |\n",
      "20.9 sec:  0 |\n",
      "21.0 sec:  0 |\n",
      "21.2 sec:  1 #######\n"
     ]
    }
   ],
   "source": [
    "!{'python -m pyperf hist outputs/pyperf_measurements.json'}"
   ]
  },
  {
   "cell_type": "markdown",
   "id": "a391d3e9-bc0d-40f3-975a-856f9b539d4d",
   "metadata": {},
   "source": [
    "## Extracting the results"
   ]
  },
  {
   "cell_type": "code",
   "execution_count": 30,
   "id": "2bd1bafb-c893-43e0-8f4d-7c08f8f5cd6c",
   "metadata": {},
   "outputs": [],
   "source": [
    "from pyperf import BenchmarkSuite\n",
    "\n",
    "def load_bench_measurements(name: str, json_filename: str) -> list[float]:\n",
    "    \"\"\"extract the values for a given benchmark\"\"\"\n",
    "    suite = BenchmarkSuite.load(json_filename)\n",
    "    bench = suite.get_benchmark(name)\n",
    "    return list(bench.get_values())"
   ]
  },
  {
   "cell_type": "code",
   "execution_count": 31,
   "id": "186ea766-00ef-4d1e-8bbf-e8c1f87b82b5",
   "metadata": {},
   "outputs": [],
   "source": [
    "bubble_vals = load_bench_measurements('bubble', 'outputs/pyperf_measurements.json') \n",
    "insert_vals = load_bench_measurements('insertion', 'outputs/pyperf_measurements.json')\n",
    "merge_vals  = load_bench_measurements('merge', 'outputs/pyperf_measurements.json') \n",
    "quick_vals  = load_bench_measurements('quick', 'outputs/pyperf_measurements.json') \n",
    "radix_vals  = load_bench_measurements('radix', 'outputs/pyperf_measurements.json') "
   ]
  },
  {
   "cell_type": "markdown",
   "id": "a7c633f3-89b1-4c6d-a70a-481ea3fc7ae9",
   "metadata": {
    "tags": []
   },
   "source": [
    "## Plotting the results as histograms"
   ]
  },
  {
   "cell_type": "code",
   "execution_count": 32,
   "id": "3d48cfe7-73dc-4d42-a99f-0323d8b8dd6d",
   "metadata": {},
   "outputs": [],
   "source": [
    "def draw_hist(values: list[float], title: str, canvas):\n",
    "    canvas.set_title(title)\n",
    "    canvas.set(xlabel='exec time (s)', ylabel='|instances|')\n",
    "    canvas.hist(values, 20) # putting values into 10 beans"
   ]
  },
  {
   "cell_type": "code",
   "execution_count": 33,
   "id": "1a25fff9-3a25-4d22-b83c-5fba760054ec",
   "metadata": {},
   "outputs": [
    {
     "data": {
      "image/png": "[encoded data removed]",
      "text/plain": [
       "<Figure size 576x288 with 2 Axes>"
      ]
     },
     "metadata": {
      "needs_background": "light"
     },
     "output_type": "display_data"
    }
   ],
   "source": [
    "fig, axes = plt.subplots(1,2, sharex = True, sharey= True)\n",
    "draw_hist(bubble_vals, \"bubble sort\", axes[0]) \n",
    "draw_hist(insert_vals, \"insertion sort\", axes[1]) \n",
    "fig.set_size_inches(8,4)\n",
    "fig.tight_layout()\n",
    "fig.savefig('outputs/histogram_On2.pdf')"
   ]
  },
  {
   "cell_type": "code",
   "execution_count": 34,
   "id": "4a937c29-987f-484a-935c-bf50b576c268",
   "metadata": {},
   "outputs": [
    {
     "data": {
      "image/png": "[encoded data removed]",
      "text/plain": [
       "<Figure size 864x288 with 3 Axes>"
      ]
     },
     "metadata": {
      "needs_background": "light"
     },
     "output_type": "display_data"
    }
   ],
   "source": [
    "fig, axes = plt.subplots(1,3, sharex = True, sharey= True)\n",
    "draw_hist(merge_vals, \"merge sort\", axes[0]) \n",
    "draw_hist(quick_vals, \"quick sort\", axes[1]) \n",
    "draw_hist(radix_vals, \"radix sort\", axes[2]) \n",
    "fig.set_size_inches(12,4)\n",
    "fig.tight_layout()\n",
    "fig.savefig('outputs/histogram_Onlogn.pdf')"
   ]
  },
  {
   "cell_type": "markdown",
   "id": "1d145557-42a5-42ec-838a-2a5edfbcb6f2",
   "metadata": {},
   "source": [
    "## Computing density functions"
   ]
  },
  {
   "cell_type": "code",
   "execution_count": 35,
   "id": "8bd077b9-a48f-4bdd-b2ee-509a5583b1e7",
   "metadata": {},
   "outputs": [],
   "source": [
    "from scipy.stats import gaussian_kde\n",
    "def density(values: list[float]):\n",
    "    prob_density = gaussian_kde(values)\n",
    "    prob_density.covariance_factor = lambda : .25\n",
    "    prob_density._compute_covariance()\n",
    "    return prob_density"
   ]
  },
  {
   "cell_type": "code",
   "execution_count": 36,
   "id": "b75b31f7-0a36-4c36-b143-ea7e052025e4",
   "metadata": {},
   "outputs": [],
   "source": [
    "def plot_density(f_density, name: str, scope: range, canvas):\n",
    "    xs = list(scope)\n",
    "    ys = f_density(xs)\n",
    "    ys /= ys.sum() # need to normalize the data\n",
    "    canvas.plot(xs, ys, '-', label=name)"
   ]
  },
  {
   "cell_type": "code",
   "execution_count": 37,
   "id": "45431dbf-8761-4421-beb7-87d0e49b5858",
   "metadata": {},
   "outputs": [
    {
     "data": {
      "image/png": "[encoded data removed]",
      "text/plain": [
       "<Figure size 864x288 with 2 Axes>"
      ]
     },
     "metadata": {
      "needs_background": "light"
     },
     "output_type": "display_data"
    }
   ],
   "source": [
    "fig, ax = plt.subplots(1,2, sharey=True)\n",
    "\n",
    "plot_density(density(bubble_vals), 'bubble', range(26), ax[0])\n",
    "plot_density(density(insert_vals), 'insertion', range(26), ax[0])\n",
    "ax[0].set(xlabel='exec time (s)', ylabel='probability')\n",
    "ax[0].legend()\n",
    "\n",
    "small_range = [x / 100 for x in range(0, 16)]\n",
    "plot_density(density(merge_vals), 'merge', small_range, ax[1])\n",
    "plot_density(density(quick_vals), 'quick', small_range, ax[1])\n",
    "plot_density(density(radix_vals), 'radix', small_range, ax[1])\n",
    "ax[1].set(xlabel='exec time (s)', ylabel='probability')\n",
    "ax[1].legend()\n",
    "\n",
    "fig.set_size_inches(12,4)\n",
    "fig.tight_layout()\n",
    "fig.savefig('outputs/density.pdf')"
   ]
  },
  {
   "cell_type": "markdown",
   "id": "0c1d1e3a-5f61-416b-9729-3c8b82e95765",
   "metadata": {
    "tags": []
   },
   "source": [
    "## Using box plots"
   ]
  },
  {
   "cell_type": "code",
   "execution_count": 38,
   "id": "9a52d5e7-6a98-4cae-a002-15f5c79ca556",
   "metadata": {},
   "outputs": [],
   "source": [
    "def plot_box(values: list[float], names: str, canvas):\n",
    "    canvas.boxplot(values, notch=True, labels=names)"
   ]
  },
  {
   "cell_type": "code",
   "execution_count": 39,
   "id": "072c6f3f-f37e-4594-a5a7-52f8d4dfff27",
   "metadata": {},
   "outputs": [
    {
     "data": {
      "image/png": "[encoded data removed]",
      "text/plain": [
       "<Figure size 864x288 with 5 Axes>"
      ]
     },
     "metadata": {
      "needs_background": "light"
     },
     "output_type": "display_data"
    }
   ],
   "source": [
    "fig, ax = plt.subplots(1,5)\n",
    "\n",
    "plot_box([bubble_vals],['bubble'], ax[0])\n",
    "plot_box([insert_vals],['insert'], ax[1])\n",
    "plot_box([merge_vals],['merge'], ax[2])\n",
    "plot_box([quick_vals],['quick'], ax[3])\n",
    "plot_box([radix_vals],['radix'], ax[4])\n",
    "\n",
    "fig.set_size_inches(12,4)\n",
    "fig.tight_layout()\n",
    "fig.savefig('outputs/boxplot.pdf')"
   ]
  }
 ],
 "metadata": {
  "kernelspec": {
   "display_name": "Python 3 (ipykernel)",
   "language": "python",
   "name": "python3"
  },
  "language_info": {
   "codemirror_mode": {
    "name": "ipython",
    "version": 3
   },
   "file_extension": ".py",
   "mimetype": "text/x-python",
   "name": "python",
   "nbconvert_exporter": "python",
   "pygments_lexer": "ipython3",
   "version": "3.10.2"
  }
 },
 "nbformat": 4,
 "nbformat_minor": 5
}
